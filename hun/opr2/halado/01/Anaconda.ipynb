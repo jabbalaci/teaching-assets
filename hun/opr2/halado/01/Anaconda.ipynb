{
 "cells": [
  {
   "cell_type": "markdown",
   "metadata": {},
   "source": [
    "# Anaconda\n",
    "\n",
    "Az [Anaconda](https://www.continuum.io/why-anaconda) egy Python disztribúció, ami számos előnnyel rendelkezik:\n",
    "* sima felhasználóként is fel tudjuk telepíteni, pl. a `HOME` könyvtárunkba\n",
    "* a standard könyvtáron túl 100-nál is több hasznos csomag feltelepül\n",
    "* De a legnagyobb előnye: ha fel akarunk rakni egy új csomagot, akkor nincs szükségünk adminisztrátori jogokra! Mivel a saját könyvtárunkba tesszük fel, s minden onnan fog futni, ezért mi leszünk ennek a Python telepítésnek az \"adminisztrátorai\".\n",
    "* A feladatokat IPython Notebook formátumban fogják megkapni (ez is abban készült, amit épp' most olvasnak). Az Anaconda telepítés tartalmazza az IPython Notebook-ot, így ezt hamarosan maguk is használni tudják majd.\n",
    "* Nem elhanyagolandó szempont az sem, hogy az Anaconda-ból van ingyenes változat, ill. többféle platformon is elérhető. Létezik belőle Python 2-es és Python 3-as változat is!"
   ]
  },
  {
   "cell_type": "markdown",
   "metadata": {},
   "source": [
    "# Az Anaconda telepítése\n",
    "\n",
    "Látogassuk meg a https://www.continuum.io/downloads webhelyet, s menjünk le az oldal aljára (itt lesz a linuxos telepítő). Töltsük le a Python 2.7-es telepítőt (a 64-bites változatot). Ha lejött, akkor telepítsük fel:\n",
    "\n",
    "    $ bash Anaconda-2.3.0-Linux-x86_64.sh\n",
    "    \n",
    "Ezután kövessük a telepítő lépéseit. Fogadjuk el a licencfeltételeket, majd adjuk meg a telepítési könyvtárat. Ez lehet az alapértelmezetten felkínált `HOME` könyvtárunkban lévő `anaconda` nevű könyvtár. A teljes telepítés mérete elég nagy lesz, kb. 1,9 GB.\n",
    "\n",
    "A végén rákérdez, hogy a `~/anaconda/bin` könyvtárat fűzze-e hozzá a `~/.bashrc` állomány végéhez. Ezt fogadjuk el, majd nyissunk meg egy új terminált, hogy a változások érvénybe lépjenek."
   ]
  },
  {
   "cell_type": "markdown",
   "metadata": {},
   "source": [
    "## Első lépések\n",
    "\n",
    "Az Anaconda telepítője a `~/.bashrc` végére a következőt szúrta be:\n",
    "\n",
    "    # added by Anaconda 2.3.0 installer\n",
    "    export PATH=\"/home/jabba/anaconda/bin:$PATH\"\n",
    "    \n",
    "Vagyis a `PATH` elején az Anaconda `bin` könyvtára szerepel. Lépjünk be ebbe a könyvtárba, s nézzük meg, hogy mik vannak itt. Vegyük észre, hogy itt van egy `python` nevű bináris is, vagyis mostantól ha kiadjuk a `python` parancsot, akkor az Anaconda-ban lévő Python fog elindulni. Győződjünk meg erről:\n",
    "\n",
    "```\n",
    "$ cd\n",
    "$ which python\n",
    "/home/jabba/anaconda/bin/python\n",
    "$ which python3\n",
    "/usr/bin/python3\n",
    "```\n",
    "    \n",
    "Mivel az Anaconda Python 2.7-es verzióját tettük fel, ez csupán a `python` binárist tartalmazza, ami a Python 2.7-et indítja. A `python3` bináris az Ubuntu által feltelepített Python 3-as verzió.\n",
    "\n",
    "Indítsuk el a Python interpretert:\n",
    "\n",
    "    $ python\n",
    "    Python 2.7.10 |Anaconda 2.3.0 (64-bit)| (default, May 28 2015, 17:02:03) \n",
    "    [GCC 4.4.7 20120313 (Red Hat 4.4.7-1)] on linux2\n",
    "    Type \"help\", \"copyright\", \"credits\" or \"license\" for more information.\n",
    "    Anaconda is brought to you by Continuum Analytics.\n",
    "    Please check out: http://continuum.io/thanks and https://binstar.org\n",
    "    >>>\n",
    "    \n",
    "Vegyük észre, hogy az első sorban kiírja, hogy ez az Anaconda disztribúció része: `Anaconda 2.3.0`.\n",
    "\n",
    "Ha az Ubuntu által feltett Python 2-esre lenne szükségünk, akkor használjuk a rendszer-szintű Python interpreter teljes elérési útját:\n",
    "\n",
    "    $ /usr/bin/python\n",
    "    Python 2.7.6 (default, Jun 22 2015, 17:58:13) \n",
    "    [GCC 4.8.2] on linux2\n",
    "    Type \"help\", \"copyright\", \"credits\" or \"license\" for more information.\n",
    "    >>>\n",
    "    \n",
    "Itt már nem szerepel az Anaconda verziószáma. Azt is vegyük észre, hogy az Anaconda a legfrissebb Python 2.7-es interpretert tette fel, míg az Ubuntu-ban található verzió egy kicsit régebbi (Python 2.7.10 vs. Python 2.7.6)."
   ]
  },
  {
   "cell_type": "markdown",
   "metadata": {},
   "source": [
    "## Csomagok frissítése\n",
    "\n",
    "Az Anaconda telepítésünket érdemes frissíteni, mivel a telepítő összeállítása óta valószínűleg már több csomag is frissült.\n",
    "\n",
    "    $ conda update --all\n",
    "    \n",
    "A `conda` a disztribúció saját csomagkezelője. Egy új csomagot érdemes ezzel feltenni. Ha nem találja meg, akkor természetesen használhatjuk a jól ismert `pip` parancsot is.\n",
    "\n",
    "A végén valószínűleg még a köv. parancsot is ki kell adnunk (erre fel is hívja a figyelmet a csomagkezelő):\n",
    "\n",
    "    $ conda install anaconda-client\n",
    "    \n",
    "Ezek után van egy teljesen up-to-date Python 2.7-es rendszerünk, benne számos csomaggal, s az egész felett mi rendelkezünk, vagyis azt telepítünk fel, amit csak akarunk (nincs szükség admin jogokra)."
   ]
  },
  {
   "cell_type": "markdown",
   "metadata": {},
   "source": [
    "## Valtas uj verziora (upgrade)\n",
    "\n",
    "A peldaban az Anaconda disztribucio 2.3.0-s verziojat tettuk fel. Mi a helyzet, ha kijon egy uj verzio, pl. a 2.4.0-s?  A kovetkezo parancs segitsegevel konnyeden valthatunk az uj kiadasra:\n",
    "    \n",
    "    $ conda update anaconda\n",
    "    \n",
    "Ha minden csomagbol a legujabb verziot szeretnenk, akkor ezutan meg kiadhatjuk a \n",
    "\n",
    "    $ conda update --all\n",
    "    \n",
    "parancsot is."
   ]
  },
  {
   "cell_type": "markdown",
   "metadata": {},
   "source": [
    "## Telepitocsomagok torlese\n",
    "\n",
    "Frissites utan a letoltott `.tar.bz2` telepitocsomagok eltavolitasaval jelentos tarterulet szabadithato fel:\n",
    "\n",
    "    $ conda clean -t"
   ]
  },
  {
   "cell_type": "markdown",
   "metadata": {},
   "source": [
    "## Windows\n",
    "\n",
    "Az Anaconda Windows alá is elérhető, s ugyanígy kell feltenni. Óriási előnye, hogy olyan csomagokat is feltesz, amiket amúgy nagyon körülményes lenne felrakni (pl. `pip`, `numpy`, `scipy`).\n",
    "\n",
    "Vagyis: ha Windows alatt akarunk Python-ozni, akkor érdemes kipróbálni az Anaconda disztribúciót.\n",
    "\n",
    "A Windows verzió egy grafikus telepítővel rendelkezik. A telepítés helyét szerintem érdemes átírni \"`C:\\Anaconda`\"-ra. Engedélyezzük a `PATH` módosítását, ill. azt, hogy a rendszerünkön ez legyen az alapértelmezett Python 2.7-es változat. A Windows verzióban is megvan a parancssoros `conda`, tehát innentől a linuxos verzióhoz hasonlóan frissíthető/használható a rendszer."
   ]
  },
  {
   "cell_type": "markdown",
   "metadata": {},
   "source": [
    "## Hello, World!\n",
    "\n",
    "A Python programjainkat ugyanúgy kell írni, mint eddig. Példa:\n",
    "\n",
    "    #!/usr/bin/env python\n",
    "\n",
    "    import scipy\n",
    "    \n",
    "    print \"hello\"\n",
    "    \n",
    "Az első sor jelentése: a `PATH`-ban keresd meg a `python` interpreter helyét. Ezt most a `~/anaconda/bin/` könyvtárban fogja megtalálni.\n",
    "\n",
    "Futtassuk le ugyanezt az Ubuntu saját Python interpreterével:\n",
    "\n",
    "    $ /usr/bin/python hello.py \n",
    "    Traceback (most recent call last):\n",
    "      File \"hello.py\", line 3, in <module>\n",
    "        import scipy\n",
    "    ImportError: No module named scipy\n",
    "    \n",
    "An Anaconda tartalmazza a Scipy csomagot, de ha ez globálisan (rendszer-szinten) nincs feltelepítve, akkor a globális Python interpreter hibát jelez."
   ]
  },
  {
   "cell_type": "markdown",
   "metadata": {},
   "source": [
    "## Csomag telepítése\n",
    "\n",
    "Nézzük meg, hogy hogyan tudunk feltelepíteni egy csomagot. Pl. tegyük fel a `bpython`-t, ami egy alternatív interaktív shell.\n",
    "\n",
    "\n",
    "Először nézzük meg, hogy fent van-e:\n",
    "```\n",
    "$ bpython\n",
    "The program 'bpython' is currently not installed. You can install it by typing:\n",
    "sudo apt-get install bpython\n",
    "```\n",
    "\n",
    "Nincs. Az Ubuntu tippet ad, hogy hogyan tudnánk az `apt-get` csomagkezelővel feltenni. Ehhez egyrészt adminisztrátori jogok kellenek, másrészt meg nem globálisan, hanem lokálisan (az Anaconda disztribúción belül) szeretnénk feltenni.\n",
    "\n",
    "Próbálkozzunk először a `conda`-val:\n",
    "```\n",
    "$ conda install bpython\n",
    "Fetching package metadata: ....\n",
    "Error: No packages found in current linux-64 channels matching: bpython\n",
    "...\n",
    "```\n",
    "\n",
    "Nem elérhető. Akkor marad a `pip`:\n",
    "```\n",
    "$ which pip\n",
    "/home/jabba/anaconda/bin/pip\n",
    "$ pip install bpython\n",
    "Collecting bpython\n",
    "...\n",
    "Installing collected packages: bpython\n",
    "Successfully installed bpython-0.14.2\n",
    "\n",
    "```\n",
    "\n",
    "Itt a `pip` az Anaconda-n belüli `pip` parancs, vagyis ezzel a `bpython`-t lokálisan telepítjük fel.\n",
    "\n",
    "Próbáljuk ki:\n",
    "```\n",
    "$ bpython\n",
    "bpython version 0.14.2 on top of Python 2.7.10 /home/jabba/anaconda/bin/python\n",
    ">>>\n",
    "```\n",
    "\n",
    "Működik :)"
   ]
  },
  {
   "cell_type": "markdown",
   "metadata": {},
   "source": [
    "## Mit kapunk még az Anaconda-val?\n",
    "\n",
    "Itt kiemelnék még néhány hasznos programot:\n",
    "\n",
    "* spyder (egyszerű de jól használható IDE)\n",
    "* ipython notebook (az éppen olvasott jegyzet is ezzel készült)\n",
    "* pip (Python csomagkezelő; ha valami nem menne fel a `conda` paranccsal)\n",
    "* Redis (kulcs-érték tároló rendszer)\n",
    "* stb.\n",
    "\n",
    "A feltelepített csomagok listáját [itt](http://docs.continuum.io/anaconda/pkg-docs) találjuk meg."
   ]
  },
  {
   "cell_type": "markdown",
   "metadata": {},
   "source": [
    "## További infó\n",
    "\n",
    "Lásd [Anaconda Quickstart Guide](https://store.continuum.io/static/img/Anaconda-Quickstart.pdf)."
   ]
  },
  {
   "cell_type": "markdown",
   "metadata": {},
   "source": [
    "## Miniconda\n",
    "\n",
    "Az Anaconda telepítés után kb. 1,9 GB-ot foglal. Ha ez túl sok, akkor lehetőség van egy minimális verzió feltelepítésére is, s utána mi döntjük el, hogy mely csomagokat szeretnénk feltenni. A minimális verzió neve [miniconda](http://conda.pydata.org/miniconda.html).\n",
    "\n",
    "### Telepítés\n",
    "\n",
    "Vagy a teljes verziót tegyük fel, vagy ezt a minimálisat. Mindkettőt felesleges feltenni. A [projekt honlapjáról](http://conda.pydata.org/miniconda.html) töltsük le a telepítőt, majd installáljuk a szoftvert.\n",
    "\n",
    "```\n",
    "$ bash Miniconda-latest-Linux-x86_64.sh\n",
    "```\n",
    "\n",
    "A telepítés menete hasonló a teljes verzióhoz, csak itt az alapértelmezett telepítési könyvtár a `~/miniconda`. Ezt meg lehet változtatni, de hagyhatjuk is. A telepítő a végén felajánlja a `PATH` változó kiegészítését. Ezt elfogadva a következő sorok kerülnek be a `~/.bashrc` végére:\n",
    "\n",
    "```\n",
    "# added by Miniconda 3.16.0 installer\n",
    "export PATH=\"/home/jabba/miniconda/bin:$PATH\"\n",
    "```\n",
    "\n",
    "Fontos! Ha feltettük a teljes verziót is, akkor döntsük el, hogy melyiket akarjuk használni, s annak a `bin` könyvtárát fűzzük hozzá a `PATH`-hoz. A másikat kommenteljük ki, hogy a kettő még véletlenül se akadjon össze. A `~/.bashrc` szerkesztése után nyissunk egy új terminált, s győződjünk meg arról, hogy a miniconda-ban lévő Python interpretert találja meg a rendszer először:\n",
    "\n",
    "```\n",
    "$ which python\n",
    "/home/jabba/miniconda/bin/python\n",
    "```\n",
    "\n",
    "Végül frissítsük a csomagokat a \"`conda update --all`\" paranccsal. A miniconda telepítés alapmérete kb. 190 MB.\n",
    "\n",
    "### IPython Notebook telepítése\n",
    "\n",
    "Az IPython Notebook-ot a következőképpen tudjuk telepíteni:\n",
    "\n",
    "```\n",
    "$ conda install jupyter\n",
    "```\n",
    "\n",
    "Az IPython Notebook a Jupyter projekt része lett, ezért tesszük fel ezt a csomagot. A szükséges függőségek feltelepítése után a miniconda telepítés mérete kb. 500 MB-ra hízik.\n",
    "\n",
    "Az IPython Notebook-ot az \"`ipython notebook`\" parancs kiadásával tudjuk megtenni."
   ]
  }
 ],
 "metadata": {
  "kernelspec": {
   "display_name": "Python 2",
   "language": "python",
   "name": "python2"
  },
  "language_info": {
   "codemirror_mode": {
    "name": "ipython",
    "version": 2
   },
   "file_extension": ".py",
   "mimetype": "text/x-python",
   "name": "python",
   "nbconvert_exporter": "python",
   "pygments_lexer": "ipython2",
   "version": "2.7.10"
  }
 },
 "nbformat": 4,
 "nbformat_minor": 0
}
